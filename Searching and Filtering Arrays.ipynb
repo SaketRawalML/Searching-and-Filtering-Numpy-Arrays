{
 "cells": [
  {
   "cell_type": "markdown",
   "id": "04f11d5b",
   "metadata": {},
   "source": [
    "# Searching Arrays\n"
   ]
  },
  {
   "cell_type": "code",
   "execution_count": 3,
   "id": "2b5885a1",
   "metadata": {},
   "outputs": [
    {
     "name": "stdout",
     "output_type": "stream",
     "text": [
      "(array([3, 6], dtype=int64),)\n"
     ]
    }
   ],
   "source": [
    "# we can search an array for a certain value and return the indexes that get a match.To search an array use the where() method\n",
    "# Example 1-->>\n",
    "import numpy as np\n",
    "arr = np.array([1,2,3,4,5,6,4])\n",
    "x = np.where(arr==4)\n",
    "print(x)"
   ]
  },
  {
   "cell_type": "code",
   "execution_count": 4,
   "id": "02b1a015",
   "metadata": {},
   "outputs": [
    {
     "name": "stdout",
     "output_type": "stream",
     "text": [
      "(array([0, 0, 0], dtype=int64), array([1, 3, 5], dtype=int64))\n"
     ]
    }
   ],
   "source": [
    "# Example 2-->>\n",
    "import numpy as np\n",
    "arr = np.array([[1,2,3,4,5,6,7]])\n",
    "x = np.where(arr%2==0)\n",
    "print(x)"
   ]
  },
  {
   "cell_type": "code",
   "execution_count": 5,
   "id": "03f70f03",
   "metadata": {},
   "outputs": [
    {
     "name": "stdout",
     "output_type": "stream",
     "text": [
      "(array([0, 0, 0, 0], dtype=int64), array([0, 2, 4, 6], dtype=int64))\n"
     ]
    }
   ],
   "source": [
    "# Example 3-->>\n",
    "import numpy as np\n",
    "arr = np.array([[1,2,3,4,5,6,7]])\n",
    "x = np.where(arr%2==1)\n",
    "print(x)"
   ]
  },
  {
   "cell_type": "markdown",
   "id": "221a3e5a",
   "metadata": {},
   "source": [
    "# Search Sorted"
   ]
  },
  {
   "cell_type": "code",
   "execution_count": 6,
   "id": "8acf4235",
   "metadata": {},
   "outputs": [
    {
     "name": "stdout",
     "output_type": "stream",
     "text": [
      "1\n"
     ]
    }
   ],
   "source": [
    "# There is a method called searchsorted() which performs a binary search in the array and returns the index where the specified\n",
    "# value where the specified value would be inserted to maintain the search order. The searchsorted() method is assumed to be\n",
    "# used on sorted arrays.\n",
    "# Example -->>\n",
    "import numpy as np \n",
    "arr = np.array([6,7,8,9])\n",
    "x = np.searchsorted(arr,7)\n",
    "print(x)"
   ]
  },
  {
   "cell_type": "code",
   "execution_count": 7,
   "id": "7cdf3947",
   "metadata": {},
   "outputs": [
    {
     "name": "stdout",
     "output_type": "stream",
     "text": [
      "2\n"
     ]
    }
   ],
   "source": [
    "# Example-->>\n",
    "import numpy as np\n",
    "arr = np.array([6,7,8,9])\n",
    "x = np.searchsorted(arr,7, side='right')\n",
    "print(x)"
   ]
  },
  {
   "cell_type": "code",
   "execution_count": 8,
   "id": "1972e199",
   "metadata": {},
   "outputs": [
    {
     "name": "stdout",
     "output_type": "stream",
     "text": [
      "[1 2 3]\n"
     ]
    }
   ],
   "source": [
    "# Example-->>\n",
    "import numpy as np\n",
    "arr = np.array([1,3,5,7])\n",
    "x = np.searchsorted(arr,[2,4,6])\n",
    "print(x)"
   ]
  },
  {
   "cell_type": "markdown",
   "id": "058fc03e",
   "metadata": {},
   "source": [
    "# Numpy Filter Array "
   ]
  },
  {
   "cell_type": "code",
   "execution_count": 10,
   "id": "ac1fb1a1",
   "metadata": {},
   "outputs": [
    {
     "name": "stdout",
     "output_type": "stream",
     "text": [
      "[1 4]\n"
     ]
    }
   ],
   "source": [
    "# Getting some elements out of an existing array and creating a new array out of them is called filtering\n",
    "# Example-->>\n",
    "import numpy as np\n",
    "arr = np.array([1,2,4,6])\n",
    "x = [True,False,True,False]\n",
    "new_arr = arr[x]\n",
    "print(new_arr)"
   ]
  },
  {
   "cell_type": "code",
   "execution_count": 11,
   "id": "28a25e08",
   "metadata": {},
   "outputs": [
    {
     "name": "stdout",
     "output_type": "stream",
     "text": [
      "[False, False, True, True]\n",
      "[43 45]\n"
     ]
    }
   ],
   "source": [
    "# Example-->>\n",
    "import numpy as np\n",
    "arr = np.array([41,42,43,45])\n",
    "filter_arr = [] #empty list\n",
    "for x in arr:\n",
    "    if x > 42:\n",
    "        filter_arr.append(True)\n",
    "    else :\n",
    "        filter_arr.append(False)\n",
    "new_arr = arr[filter_arr]\n",
    "print(filter_arr)\n",
    "print(new_arr)\n",
    "        \n"
   ]
  },
  {
   "cell_type": "code",
   "execution_count": 12,
   "id": "9dded26d",
   "metadata": {},
   "outputs": [
    {
     "name": "stdout",
     "output_type": "stream",
     "text": [
      "[False, True, False, True, False, True, False]\n",
      "[2 4 6]\n"
     ]
    }
   ],
   "source": [
    "# Example-->>\n",
    "import numpy as np\n",
    "arr = np.array([1,2,3,4,5,6,7])\n",
    "filter_arr = [] #empty list\n",
    "for x in arr:\n",
    "    if x %2==0:\n",
    "        filter_arr.append(True)\n",
    "    else :\n",
    "        filter_arr.append(False)\n",
    "new_arr = arr[filter_arr]\n",
    "print(filter_arr)\n",
    "print(new_arr)\n",
    "        \n"
   ]
  },
  {
   "cell_type": "code",
   "execution_count": 13,
   "id": "cc1e8471",
   "metadata": {},
   "outputs": [
    {
     "name": "stdout",
     "output_type": "stream",
     "text": [
      "[False False  True  True]\n",
      "[43 45]\n"
     ]
    }
   ],
   "source": [
    "# Example-->>\n",
    "import numpy as np\n",
    "arr = np.array([41,42,43,45])\n",
    "filter_arr = arr> 42\n",
    "new_arr = arr[filter_arr]\n",
    "print(filter_arr)\n",
    "print(new_arr)"
   ]
  },
  {
   "cell_type": "code",
   "execution_count": 14,
   "id": "15e43c03",
   "metadata": {},
   "outputs": [
    {
     "name": "stdout",
     "output_type": "stream",
     "text": [
      "[False  True False False]\n",
      "[42]\n"
     ]
    }
   ],
   "source": [
    "# Example-->>\n",
    "import numpy as np\n",
    "arr = np.array([41,42,43,45])\n",
    "filter_arr = arr%2 ==0\n",
    "new_arr = arr[filter_arr]\n",
    "print(filter_arr)\n",
    "print(new_arr)"
   ]
  }
 ],
 "metadata": {
  "kernelspec": {
   "display_name": "Python 3",
   "language": "python",
   "name": "python3"
  },
  "language_info": {
   "codemirror_mode": {
    "name": "ipython",
    "version": 3
   },
   "file_extension": ".py",
   "mimetype": "text/x-python",
   "name": "python",
   "nbconvert_exporter": "python",
   "pygments_lexer": "ipython3",
   "version": "3.8.8"
  }
 },
 "nbformat": 4,
 "nbformat_minor": 5
}
